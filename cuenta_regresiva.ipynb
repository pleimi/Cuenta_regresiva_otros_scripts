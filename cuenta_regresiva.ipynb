{
  "nbformat": 4,
  "nbformat_minor": 0,
  "metadata": {
    "colab": {
      "name": "cuenta_regresiva.ipynb",
      "provenance": [],
      "authorship_tag": "ABX9TyOVs7uG6gmH5opGifXARz9p",
      "include_colab_link": true
    },
    "kernelspec": {
      "name": "python3",
      "display_name": "Python 3"
    },
    "language_info": {
      "name": "python"
    }
  },
  "cells": [
    {
      "cell_type": "markdown",
      "metadata": {
        "id": "view-in-github",
        "colab_type": "text"
      },
      "source": [
        "<a href=\"https://colab.research.google.com/github/pleimi/primer-repositorio/blob/master/cuenta_regresiva.ipynb\" target=\"_parent\"><img src=\"https://colab.research.google.com/assets/colab-badge.svg\" alt=\"Open In Colab\"/></a>"
      ]
    },
    {
      "cell_type": "code",
      "metadata": {
        "id": "qzyhgv59QmwX",
        "colab": {
          "base_uri": "https://localhost:8080/"
        },
        "outputId": "d3fcdffd-f2e9-4eef-d5a1-6704e3c92dae"
      },
      "source": [
        "import time \n",
        "t = 10\n",
        "while True:\n",
        "  print (t)\n",
        "  if t == 0:\n",
        "     break\n",
        "  t -= 1\n",
        "  time.sleep(1)\n",
        "print(\"listo papa\")\n"
      ],
      "execution_count": 19,
      "outputs": [
        {
          "output_type": "stream",
          "text": [
            "10\n",
            "9\n",
            "8\n",
            "7\n",
            "6\n",
            "5\n",
            "4\n",
            "3\n",
            "2\n",
            "1\n",
            "0\n",
            "listo papa\n"
          ],
          "name": "stdout"
        }
      ]
    }
  ]
}