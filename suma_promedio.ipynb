{
  "nbformat": 4,
  "nbformat_minor": 0,
  "metadata": {
    "colab": {
      "name": "suma_promedio.ipynb",
      "provenance": [],
      "authorship_tag": "ABX9TyPF0ol6TNX6hy/H7kph904r",
      "include_colab_link": true
    },
    "kernelspec": {
      "name": "python3",
      "display_name": "Python 3"
    },
    "language_info": {
      "name": "python"
    }
  },
  "cells": [
    {
      "cell_type": "markdown",
      "metadata": {
        "id": "view-in-github",
        "colab_type": "text"
      },
      "source": [
        "<a href=\"https://colab.research.google.com/github/pleimi/Cuenta_regresiva_otros_scripts/blob/master/suma_promedio.ipynb\" target=\"_parent\"><img src=\"https://colab.research.google.com/assets/colab-badge.svg\" alt=\"Open In Colab\"/></a>"
      ]
    },
    {
      "cell_type": "code",
      "metadata": {
        "colab": {
          "base_uri": "https://localhost:8080/"
        },
        "id": "YWVZGKInDc-E",
        "outputId": "e368f2d2-e2d2-44c1-a7be-7430d2b201fd"
      },
      "source": [
        "a = (9200)\n",
        "b = (11000)\n",
        "c = (11000)\n",
        "d = (11000)\n",
        "e = (24500)\n",
        "f = (11000)\n",
        "g = (33000)\n",
        "h = (37000)\n",
        "suma = (a+b+c+d+e+f+g+h)\n",
        "robo = (70000000000)\n",
        "p = (robo/(suma/8))\n",
        "print(p)\n"
      ],
      "execution_count": 17,
      "outputs": [
        {
          "output_type": "stream",
          "text": [
            "3791469.194312796\n"
          ],
          "name": "stdout"
        }
      ]
    }
  ]
}