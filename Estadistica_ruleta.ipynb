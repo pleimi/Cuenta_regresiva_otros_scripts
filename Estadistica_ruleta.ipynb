{
  "nbformat": 4,
  "nbformat_minor": 0,
  "metadata": {
    "colab": {
      "name": "Estadistica_ruleta.ipynb",
      "provenance": [],
      "authorship_tag": "ABX9TyPjHeLAJOLmavfEMq2Q+1on",
      "include_colab_link": true
    },
    "kernelspec": {
      "name": "python3",
      "display_name": "Python 3"
    },
    "language_info": {
      "name": "python"
    }
  },
  "cells": [
    {
      "cell_type": "markdown",
      "metadata": {
        "id": "view-in-github",
        "colab_type": "text"
      },
      "source": [
        "<a href=\"https://colab.research.google.com/github/pleimi/Cuenta_regresiva_otros_scripts/blob/master/Estadistica_ruleta.ipynb\" target=\"_parent\"><img src=\"https://colab.research.google.com/assets/colab-badge.svg\" alt=\"Open In Colab\"/></a>"
      ]
    },
    {
      "cell_type": "code",
      "metadata": {
        "colab": {
          "base_uri": "https://localhost:8080/"
        },
        "id": "dFvOE3inyBjZ",
        "outputId": "2b2a7650-d0ba-4c4b-eecf-e3cc705793d0"
      },
      "source": [
        "estadistica = list(range(1, 109))# me da la cantidad menos el último\n",
        "print(estadistica)\n",
        "numero_ganador = input(\"el numero ganador es: \")\n",
        "print(numero_ganador)\n",
        "estadistica.insert(0, int(numero_ganador))#inserte en el indice 0 \"numero_ganador\"\n",
        "estadistica.pop()# me quita el último elemento\n",
        "print(estadistica)\n",
        "numero_ganador = input(\"el numero ganador es: \")\n",
        "print(numero_ganador)\n",
        "estadistica.insert(0, int(numero_ganador))#inserte en el indice 0 \"numero_ganador\"\n",
        "estadistica.pop()# me quita el último elemento\n",
        "print(estadistica)\n",
        "numero_ganador = input(\"el numero ganador es: \")\n",
        "print(numero_ganador)\n",
        "estadistica.insert(0, int(numero_ganador))#inserte en el indice 0 \"numero_ganador\"\n",
        "estadistica.pop()# me quita el último elemento\n",
        "print(estadistica)"
      ],
      "execution_count": null,
      "outputs": [
        {
          "output_type": "stream",
          "text": [
            "[1, 2, 3, 4, 5, 6, 7, 8, 9, 10, 11, 12, 13, 14, 15, 16, 17, 18, 19, 20, 21, 22, 23, 24, 25, 26, 27, 28, 29, 30, 31, 32, 33, 34, 35, 36, 37, 38, 39, 40, 41, 42, 43, 44, 45, 46, 47, 48, 49, 50, 51, 52, 53, 54, 55, 56, 57, 58, 59, 60, 61, 62, 63, 64, 65, 66, 67, 68, 69, 70, 71, 72, 73, 74, 75, 76, 77, 78, 79, 80, 81, 82, 83, 84, 85, 86, 87, 88, 89, 90, 91, 92, 93, 94, 95, 96, 97, 98, 99, 100, 101, 102, 103, 104, 105, 106, 107, 108]\n"
          ],
          "name": "stdout"
        }
      ]
    }
  ]
}